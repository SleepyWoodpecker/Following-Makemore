{
 "cells": [
  {
   "cell_type": "markdown",
   "metadata": {},
   "source": [
    "- E01: Tune the hyperparameters of the training to beat my best validation loss of 2.2\n",
    "\n",
    "\n",
    "- E02: I was not careful with the intialization of the network in this video. \n",
    "\n",
    "(1) What is the loss you'd get if the predicted probabilities at initialization were perfectly uniform? What loss do we achieve? \n",
    "\n",
    "(2) Can you tune the initialization to get a starting loss that is much more similar to (1)?\n",
    "\n",
    "\n",
    "- E03: Read the Bengio et al 2003 paper (link above), implement and try any idea from the paper. Did it work?"
   ]
  },
  {
   "cell_type": "code",
   "execution_count": 1,
   "metadata": {},
   "outputs": [],
   "source": [
    "import torch\n",
    "from torch import Tensor"
   ]
  },
  {
   "cell_type": "code",
   "execution_count": 49,
   "metadata": {},
   "outputs": [
    {
     "data": {
      "text/plain": [
       "['emma', 'olivia', 'ava']"
      ]
     },
     "execution_count": 49,
     "metadata": {},
     "output_type": "execute_result"
    }
   ],
   "source": [
    "#  load the names\n",
    "names = open(\"../names.txt\", \"r\").read().splitlines()\n",
    "names[:3]"
   ]
  },
  {
   "cell_type": "code",
   "execution_count": 50,
   "metadata": {},
   "outputs": [],
   "source": [
    "# count the number of letters and prepare the index\n",
    "letters = set()\n",
    "for name in names:\n",
    "    for c in name:\n",
    "        letters.add(c)\n",
    "\n",
    "letter_list = list(letters)\n",
    "letter_list.append(\".\")\n",
    "letter_list.sort()\n",
    "\n",
    "stoi = {s:i for i, s in enumerate(letter_list)}\n",
    "itos = {i:s for s, i in stoi.items()}"
   ]
  },
  {
   "cell_type": "code",
   "execution_count": 4,
   "metadata": {},
   "outputs": [
    {
     "name": "stdout",
     "output_type": "stream",
     "text": [
      "torch.Size([228146, 3])\n",
      "torch.Size([228146])\n",
      "tensor([[ 0,  0,  0],\n",
      "        [ 0,  0,  5],\n",
      "        [ 0,  5, 13],\n",
      "        ...,\n",
      "        [26, 26, 25],\n",
      "        [26, 25, 26],\n",
      "        [25, 26, 24]])\n"
     ]
    }
   ],
   "source": [
    "# create the dataset\n",
    "# the number of letters you take in as context should be the amount of padding you place at the start\n",
    "\n",
    "# this will be the inputs\n",
    "x = []\n",
    "\n",
    "# this will be the outputs\n",
    "y = []\n",
    "\n",
    "# padding size\n",
    "block_size = 3\n",
    "\n",
    "for name in names:\n",
    "    # add the necessary padding to the name\n",
    "    modified_string = block_size * \".\" + name + \".\"\n",
    "    for ch1, ch2, ch3, ch4 in zip(modified_string, modified_string[1:], modified_string[2:], modified_string[3:]):\n",
    "        x.append([stoi[ch1], stoi[ch2], stoi[ch3]])\n",
    "        y.append(stoi[ch4])\n",
    "\n",
    "X = torch.tensor(x)\n",
    "Y = torch.tensor(y)\n",
    "\n",
    "print(X.shape)\n",
    "print(Y.shape)\n",
    "print(X)"
   ]
  },
  {
   "cell_type": "code",
   "execution_count": 39,
   "metadata": {},
   "outputs": [
    {
     "name": "stdout",
     "output_type": "stream",
     "text": [
      "10281\n"
     ]
    }
   ],
   "source": [
    "# set a random seed for the generator\n",
    "g = torch.Generator().manual_seed(2147483647)\n",
    "\n",
    "# number of dimensions for the embedding\n",
    "embedding_dimension = 10\n",
    "# create an encoding format for the model\n",
    "# start with a 27, 2 -> each character is represented by a 2 dimension vector\n",
    "enc = torch.randn((27, embedding_dimension), generator=g)\n",
    "\n",
    "# create the first hidden layer for the network\n",
    "# (number of inputs that should be taken, number of outputs that should be produced)\n",
    "\n",
    "# hidden layer size -> seems like an even number hundred allows my embdeddings to look more correct -> might this be a case of overfitting on the dataset?\n",
    "hidden_layer_size = 300\n",
    "\n",
    "# this is the first layer\n",
    "w1 = torch.randn((3*embedding_dimension, hidden_layer_size), generator=g)\n",
    "b1 = torch.randn(hidden_layer_size, generator=g)\n",
    "\n",
    "# this is the output layer\n",
    "w2 = torch.randn((hidden_layer_size, 27), generator=g)\n",
    "b2 = torch.randn(27, generator=g)\n",
    "\n",
    "# store the params in a list to make life easier later\n",
    "params = [enc, w1, b1, w2, b2]\n",
    "\n",
    "print(sum([p.nelement() for p in params]))\n",
    "\n",
    "# record gradient for all of the params, so backpropagation can work later\n",
    "for p in params:\n",
    "    p.requires_grad = True"
   ]
  },
  {
   "cell_type": "markdown",
   "metadata": {},
   "source": [
    "Based on Mr Karpathy, when finding the optimal learning rate, you should look for (1) a LR for which the loss decreases slowly (2) a LR before the loss starts to become unstable, by going up and down a lot\n",
    "\n",
    "(1) 0.001\n",
    "\n",
    "(2) 1.0"
   ]
  },
  {
   "cell_type": "code",
   "execution_count": 197,
   "metadata": {},
   "outputs": [],
   "source": [
    "# try to create values for the learning rate\n",
    "exps = torch.linspace(-3, 0, 1000)\n",
    "lrs = 10**exps"
   ]
  },
  {
   "cell_type": "code",
   "execution_count": 246,
   "metadata": {},
   "outputs": [
    {
     "name": "stdout",
     "output_type": "stream",
     "text": [
      "7.405254364013672\n"
     ]
    }
   ],
   "source": [
    "import torch.nn.functional as F\n",
    "\n",
    "learning_rates = []\n",
    "losses = []\n",
    "sample_size = 32\n",
    "\n",
    "# create a loop for training\n",
    "for i in range(1000):\n",
    "    # take a random sample from the dataset\n",
    "    random_sample = torch.randint(0, X.shape[0], (sample_size,))\n",
    "    input = enc[X[random_sample]].view(sample_size, -1)\n",
    "    h1 = torch.tanh(input @ w1 + b1)\n",
    "\n",
    "    # pass it to the second layer\n",
    "    output = h1 @ w2 + b2\n",
    "\n",
    "    # calculate the loss of the current NN\n",
    "    loss = F.cross_entropy(output, Y[random_sample])\n",
    "\n",
    "    for p in params:\n",
    "        p.grad = None\n",
    "\n",
    "    loss.backward()\n",
    "\n",
    "    for p in params:\n",
    "        p.data += -lrs[i] * p.grad\n",
    "\n",
    "    losses.append(loss.item())\n",
    "    # put a log10 here so that the values on the graph would be spaced out evenly\n",
    "    learning_rates.append(lrs[i].log10().item())\n",
    "\n",
    "print(loss.item())"
   ]
  },
  {
   "cell_type": "code",
   "execution_count": 200,
   "metadata": {},
   "outputs": [
    {
     "data": {
      "image/png": "[encoded data removed]",
      "text/plain": [
       "<Figure size 640x480 with 1 Axes>"
      ]
     },
     "metadata": {},
     "output_type": "display_data"
    }
   ],
   "source": [
    "import matplotlib.pyplot as plt\n",
    "\n",
    "plt.plot(learning_rates, losses)\n",
    "\n",
    "plt.show()"
   ]
  },
  {
   "cell_type": "markdown",
   "metadata": {},
   "source": [
    "From the plt above, I guess the ideal learning rate is indeed around 10**-1.0"
   ]
  },
  {
   "cell_type": "code",
   "execution_count": 40,
   "metadata": {},
   "outputs": [
    {
     "name": "stdout",
     "output_type": "stream",
     "text": [
      "1.864313006401062\n"
     ]
    }
   ],
   "source": [
    "# try training with the ideal LR\n",
    "import torch.nn.functional as F\n",
    "\n",
    "losses = []\n",
    "training_round = []\n",
    "sample_size = 32\n",
    "\n",
    "# create a loop for training\n",
    "for i in range(200000):\n",
    "    # take a random sample from the dataset\n",
    "    random_sample = torch.randint(0, X.shape[0], (sample_size,))\n",
    "    input = enc[X[random_sample]].view(sample_size, -1)\n",
    "    h1 = torch.tanh(input @ w1 + b1)\n",
    "\n",
    "    # pass it to the second layer\n",
    "    output = h1 @ w2 + b2\n",
    "\n",
    "    # calculate the loss of the current NN\n",
    "    loss = F.cross_entropy(output, Y[random_sample])\n",
    "\n",
    "    losses.append(loss.log10().item())\n",
    "    training_round.append(i)\n",
    "\n",
    "    for p in params:\n",
    "        p.grad = None\n",
    "\n",
    "    loss.backward()\n",
    "\n",
    "    lr = 0.1 if i < 100000 else 0.01\n",
    "    for p in params:\n",
    "        p.data += -lr * p.grad\n",
    "\n",
    "\n",
    "\n",
    "\n",
    "print(loss.item())"
   ]
  },
  {
   "cell_type": "code",
   "execution_count": 103,
   "metadata": {},
   "outputs": [
    {
     "data": {
      "image/png": "[encoded data removed]",
      "text/plain": [
       "<Figure size 640x480 with 1 Axes>"
      ]
     },
     "metadata": {},
     "output_type": "display_data"
    }
   ],
   "source": [
    "plt.plot(training_round, losses)\n",
    "plt.show()"
   ]
  },
  {
   "cell_type": "code",
   "execution_count": 41,
   "metadata": {},
   "outputs": [
    {
     "data": {
      "text/plain": [
       "tensor(2.2208, grad_fn=<NllLossBackward0>)"
      ]
     },
     "execution_count": 41,
     "metadata": {},
     "output_type": "execute_result"
    }
   ],
   "source": [
    "# calculate the final loss\n",
    "\n",
    "h = torch.tanh(enc[X].view(X.shape[0], -1) @ w1 + b1)\n",
    "logits = h @ w2 + b2\n",
    "loss = F.cross_entropy(logits, Y)\n",
    "loss"
   ]
  },
  {
   "cell_type": "markdown",
   "metadata": {},
   "source": [
    "(2 dimension embeddings) Not sure why the even number hundreds seem to give good embeddings, while the odd number hundred functions do not -> now I am unable to reproduce this. what is going on manz\n",
    "(1 dimension embeddings) No noticable difference in the way the embeddings are shown"
   ]
  },
  {
   "cell_type": "code",
   "execution_count": 42,
   "metadata": {},
   "outputs": [
    {
     "data": {
      "image/png": "[encoded data removed]",
      "text/plain": [
       "<Figure size 800x800 with 1 Axes>"
      ]
     },
     "metadata": {},
     "output_type": "display_data"
    }
   ],
   "source": [
    "# plot out the encodings - code copied from Mr Karpathy\n",
    "import matplotlib.pyplot as plt\n",
    "\n",
    "plt.figure(figsize=(8,8))\n",
    "plt.scatter(enc[:,0].data, enc[:,1].data, s=200)\n",
    "# plt.scatter(enc[:,0].data, enc[:,0].data, s=200)\n",
    "for i in range(enc.shape[0]):\n",
    "    plt.text(enc[i,0].item(), enc[i,1].item(), itos[i], ha=\"center\", va=\"center\", color='white')\n",
    "    # plt.text(enc[i,0].item(), enc[i,0].item(), itos[i], ha=\"center\", va=\"center\", color='white')\n",
    "\n",
    "plt.grid('minor')"
   ]
  },
  {
   "cell_type": "markdown",
   "metadata": {},
   "source": [
    "<---- Proper preparation of datasets ---->"
   ]
  },
  {
   "cell_type": "code",
   "execution_count": 63,
   "metadata": {},
   "outputs": [
    {
     "name": "stdout",
     "output_type": "stream",
     "text": [
      "25626 28829\n",
      "torch.Size([182661, 3]) torch.Size([22763, 3]) torch.Size([22722, 3])\n"
     ]
    }
   ],
   "source": [
    "def prep_data(names, block_size):\n",
    "    x, y = [], []\n",
    "    for name in names:\n",
    "    # add the necessary padding to the name\n",
    "        modified_string = block_size * \".\" + name + \".\"\n",
    "        for ch1, ch2, ch3, ch4 in zip(modified_string, modified_string[1:], modified_string[2:], modified_string[3:]):\n",
    "            x.append([stoi[ch1], stoi[ch2], stoi[ch3]])\n",
    "            y.append(stoi[ch4])\n",
    "\n",
    "    X = torch.tensor(x)\n",
    "    Y = torch.tensor(y)\n",
    "\n",
    "    return X, Y\n",
    "\n",
    "# The data will be split as such - 80% training, 10% dev, 10% test\n",
    "BLOCK_SIZE = 3\n",
    "\n",
    "import random\n",
    "random.seed(42)\n",
    "random.shuffle(names)\n",
    "\n",
    "sample_size = len(names)\n",
    "train_size = int(0.8 * sample_size)\n",
    "dev_size = int(0.9 * sample_size)\n",
    "\n",
    "print(train_size, dev_size)\n",
    "\n",
    "Xtr, Ytr = prep_data(names[:train_size], BLOCK_SIZE)\n",
    "Xdev, Ydev = prep_data(names[train_size:dev_size], BLOCK_SIZE)\n",
    "Xtest, Ytest = prep_data(names[dev_size:], BLOCK_SIZE)\n",
    "\n",
    "print(Xtr.shape, Xdev.shape, Xtest.shape)"
   ]
  },
  {
   "cell_type": "code",
   "execution_count": 64,
   "metadata": {},
   "outputs": [
    {
     "name": "stdout",
     "output_type": "stream",
     "text": [
      "17697\n"
     ]
    }
   ],
   "source": [
    "# set a random seed for the generator\n",
    "g = torch.Generator().manual_seed(2147483647)\n",
    "\n",
    "# number of dimensions for the embedding\n",
    "embedding_dimension = 10\n",
    "# create an encoding format for the model\n",
    "# start with a 27, 2 -> each character is represented by a 2 dimension vector\n",
    "enc = torch.randn((27, embedding_dimension), generator=g)\n",
    "\n",
    "# create the first hidden layer for the network\n",
    "# (number of inputs that should be taken, number of outputs that should be produced)\n",
    "\n",
    "# hidden layer size -> seems like an even number hundred allows my embdeddings to look more correct -> might this be a case of overfitting on the dataset?\n",
    "hidden_layer_size = 300\n",
    "\n",
    "# this is the first layer\n",
    "w1 = torch.randn((3*embedding_dimension, hidden_layer_size), generator=g)\n",
    "b1 = torch.randn(hidden_layer_size, generator=g)\n",
    "\n",
    "# this is the output layer\n",
    "w2 = torch.randn((hidden_layer_size, 27), generator=g)\n",
    "b2 = torch.randn(27, generator=g)\n",
    "\n",
    "# store the params in a list to make life easier later\n",
    "params = [enc, w1, b1, w2, b2]\n",
    "\n",
    "print(sum([p.nelement() for p in params]))\n",
    "\n",
    "# record gradient for all of the params, so backpropagation can work later\n",
    "for p in params:\n",
    "    p.requires_grad = True"
   ]
  },
  {
   "cell_type": "code",
   "execution_count": 65,
   "metadata": {},
   "outputs": [],
   "source": [
    "# try training with the ideal LR\n",
    "import torch.nn.functional as F\n",
    "\n",
    "losses = []\n",
    "training_round = []\n",
    "sample_size = 50\n",
    "\n",
    "# create a loop for training\n",
    "for i in range(200000):\n",
    "    # take a random sample from the dataset\n",
    "    random_sample = torch.randint(0, Xtr.shape[0], (sample_size,))\n",
    "    input = enc[Xtr[random_sample]].view(sample_size, -1)\n",
    "    h1 = torch.tanh(input @ w1 + b1)\n",
    "\n",
    "    # pass it to the second layer\n",
    "    output = h1 @ w2 + b2\n",
    "\n",
    "    # calculate the loss of the current NN\n",
    "    loss = F.cross_entropy(output, Ytr[random_sample])\n",
    "\n",
    "    losses.append(loss.log10().item())\n",
    "    training_round.append(i)\n",
    "\n",
    "    for p in params:\n",
    "        p.grad = None\n",
    "\n",
    "    loss.backward()\n",
    "\n",
    "    lr = 0.1 if i < 100000 else 0.01\n",
    "    for p in params:\n",
    "        p.data += -lr * p.grad"
   ]
  },
  {
   "cell_type": "code",
   "execution_count": 66,
   "metadata": {},
   "outputs": [
    {
     "name": "stdout",
     "output_type": "stream",
     "text": [
      "tensor(2.1071, grad_fn=<NllLossBackward0>) tensor(2.1690, grad_fn=<NllLossBackward0>)\n"
     ]
    }
   ],
   "source": [
    "# evaluate the training performance\n",
    "def get_loss(Xset, Yset):\n",
    "    o1 = torch.tanh(enc[Xset].view(Xset.shape[0], -1) @ w1 + b1)\n",
    "    o2 = o1 @ w2 + b2\n",
    "    loss = F.cross_entropy(o2, Yset)\n",
    "    return loss\n",
    "\n",
    "loss_train = get_loss(Xtr, Ytr)\n",
    "loss_dev = get_loss(Xdev, Ydev)\n",
    "\n",
    "print(loss_train, loss_dev)"
   ]
  },
  {
   "cell_type": "code",
   "execution_count": 67,
   "metadata": {},
   "outputs": [
    {
     "data": {
      "text/plain": [
       "tensor(2.1804, grad_fn=<NllLossBackward0>)"
      ]
     },
     "execution_count": 67,
     "metadata": {},
     "output_type": "execute_result"
    }
   ],
   "source": [
    "get_loss(Xtest, Ytest)"
   ]
  }
 ],
 "metadata": {
  "kernelspec": {
   "display_name": "Python 3.10 (torch)",
   "language": "python",
   "name": "pytorch"
  },
  "language_info": {
   "codemirror_mode": {
    "name": "ipython",
    "version": 3
   },
   "file_extension": ".py",
   "mimetype": "text/x-python",
   "name": "python",
   "nbconvert_exporter": "python",
   "pygments_lexer": "ipython3",
   "version": "3.10.13"
  }
 },
 "nbformat": 4,
 "nbformat_minor": 2
}
