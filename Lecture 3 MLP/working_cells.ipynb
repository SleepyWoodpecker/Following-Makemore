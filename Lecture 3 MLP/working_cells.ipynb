{
 "cells": [
  {
   "cell_type": "code",
   "execution_count": null,
   "metadata": {},
   "outputs": [],
   "source": [
    "import torch.nn.functional as F\n",
    "# time to construct the forward pass\n",
    "\n",
    "# create the encodings for all of the inputs and feed them into the network\n",
    "\n",
    "# actually kind of unsure why the output here is tanh-ed\n",
    "input = enc[X].view(X.shape[0], -1)\n",
    "h1 = torch.tanh(input @ w1 + b1)\n",
    "\n",
    "# pass it to the second layer\n",
    "output = h1 @ w2 + b2\n",
    "\n",
    "# calculate the loss of the current NN\n",
    "loss = F.cross_entropy(output, Y)\n",
    "loss"
   ]
  },
  {
   "cell_type": "code",
   "execution_count": null,
   "metadata": {},
   "outputs": [],
   "source": [
    "# testing if backpropagation can occur\n",
    "for p in params:\n",
    "    p.grad = None\n",
    "\n",
    "loss.backward()\n",
    "\n",
    "for p in params:\n",
    "    p.data += -0.1 * p.grad\n",
    "\n",
    "# actually kind of unsure why the output here is tanh-ed\n",
    "input = enc[X].view(X.shape[0], -1)\n",
    "h1 = torch.tanh(input @ w1 + b1)\n",
    "\n",
    "# pass it to the second layer\n",
    "output = h1 @ w2 + b2\n",
    "\n",
    "# calculate the loss of the current NN\n",
    "loss = F.cross_entropy(output, Y)\n",
    "\n",
    "loss"
   ]
  }
 ],
 "metadata": {
  "language_info": {
   "name": "python"
  }
 },
 "nbformat": 4,
 "nbformat_minor": 2
}
